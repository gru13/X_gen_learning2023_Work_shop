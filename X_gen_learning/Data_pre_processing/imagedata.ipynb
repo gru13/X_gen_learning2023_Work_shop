{
 "cells": [
  {
   "cell_type": "code",
   "execution_count": null,
   "metadata": {},
   "outputs": [],
   "source": [
    "from PIL import Image\n",
    "\n",
    "# Open image file\n",
    "image = Image.open('image.jpg')\n",
    "\n",
    "# Convert image to black and white\n",
    "bw_image = image.convert('L')\n",
    "\n",
    "# Save black and white image\n",
    "bw_image.save('bw_image.jpg')\n"
   ]
  }
 ],
 "metadata": {
  "kernelspec": {
   "display_name": "Python 3",
   "language": "python",
   "name": "python3"
  },
  "language_info": {
   "codemirror_mode": {
    "name": "ipython",
    "version": 3
   },
   "file_extension": ".py",
   "mimetype": "text/x-python",
   "name": "python",
   "nbconvert_exporter": "python",
   "pygments_lexer": "ipython3",
   "version": "3.11.1"
  },
  "orig_nbformat": 4
 },
 "nbformat": 4,
 "nbformat_minor": 2
}
